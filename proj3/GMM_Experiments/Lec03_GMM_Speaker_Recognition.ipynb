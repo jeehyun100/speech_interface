{
 "cells": [
  {
   "cell_type": "markdown",
   "metadata": {},
   "source": [
    "# GMM-based Speaker Recognition"
   ]
  },
  {
   "cell_type": "code",
   "execution_count": 1,
   "metadata": {},
   "outputs": [],
   "source": [
    "import sklearn.mixture as mixture\n",
    "import numpy as np\n",
    "import librosa\n",
    "import pdb\n",
    "import glob\n",
    "import matplotlib.pyplot as plt\n",
    "from matplotlib.colors import LogNorm\n",
    "from mpl_toolkits.mplot3d import Axes3D\n",
    "import matplotlib as cm"
   ]
  },
  {
   "cell_type": "markdown",
   "metadata": {},
   "source": [
    "## Training GMM"
   ]
  },
  {
   "cell_type": "markdown",
   "metadata": {},
   "source": [
    "### load dataset"
   ]
  },
  {
   "cell_type": "code",
   "execution_count": 7,
   "metadata": {},
   "outputs": [],
   "source": [
    "tr_dataset = np.load('./gmm_tr_data.npz',allow_pickle=True)\n",
    "tr_data = tr_dataset['x']\n",
    "tr_label = tr_dataset['y']\n",
    "tr_dataset.close()\n",
    "test_dataset = np.load('./gmm_test_data.npz',allow_pickle=True)\n",
    "test_data = test_dataset['x']\n",
    "test_label = test_dataset['y']\n",
    "test_dataset.close()"
   ]
  },
  {
   "cell_type": "code",
   "execution_count": 8,
   "metadata": {},
   "outputs": [
    {
     "data": {
      "text/plain": [
       "(29,)"
      ]
     },
     "execution_count": 8,
     "metadata": {},
     "output_type": "execute_result"
    }
   ],
   "source": [
    "np.shape(test_data)"
   ]
  },
  {
   "cell_type": "markdown",
   "metadata": {},
   "source": [
    "### Train GMM"
   ]
  },
  {
   "cell_type": "code",
   "execution_count": 9,
   "metadata": {},
   "outputs": [],
   "source": [
    "def define_GMM(n_mixture):\n",
    "    return mixture.GaussianMixture(n_components=n_mixture, covariance_type='diag')"
   ]
  },
  {
   "cell_type": "code",
   "execution_count": 10,
   "metadata": {},
   "outputs": [],
   "source": [
    "n_mixture = 4 #실험을 통해서 \n",
    "\n",
    "GMM_model = {}\n",
    "for i in tr_label:\n",
    "    GMM_model[i] = define_GMM(n_mixture)\n",
    "    GMM_model[i].fit(tr_data[i])"
   ]
  },
  {
   "cell_type": "markdown",
   "metadata": {},
   "source": [
    "# 여기서 다 넣으면 ubm모델\n",
    "# 하나는 어뎁테이셔 모델\n",
    "# 테스트도 스레시홀드가 크냐 작냐?\n",
    "# MAP adaptation\n"
   ]
  },
  {
   "cell_type": "markdown",
   "metadata": {},
   "source": [
    "### Test GMM"
   ]
  },
  {
   "cell_type": "code",
   "execution_count": 6,
   "metadata": {
    "scrolled": true
   },
   "outputs": [
    {
     "name": "stdout",
     "output_type": "stream",
     "text": [
      "Estimated: 0, True: 0     correct!\n",
      "Estimated: 1, True: 1     correct!\n",
      "Estimated: 2, True: 2     correct!\n",
      "Estimated: 3, True: 3     correct!\n",
      "Estimated: 4, True: 4     correct!\n",
      "Estimated: 5, True: 5     correct!\n",
      "Estimated: 6, True: 6     correct!\n",
      "Estimated: 7, True: 7     correct!\n",
      "Estimated: 8, True: 8     correct!\n",
      "Estimated: 9, True: 9     correct!\n",
      "Estimated: 10, True: 10     correct!\n",
      "Estimated: 11, True: 11     correct!\n",
      "Estimated: 12, True: 12     correct!\n",
      "Estimated: 13, True: 13     correct!\n",
      "Estimated: 14, True: 14     correct!\n",
      "Estimated: 15, True: 15     correct!\n",
      "Estimated: 16, True: 16     correct!\n",
      "Estimated: 17, True: 17     correct!\n",
      "Estimated: 18, True: 18     correct!\n",
      "Estimated: 19, True: 19     correct!\n",
      "Estimated: 20, True: 20     correct!\n",
      "Estimated: 21, True: 21     correct!\n",
      "Estimated: 22, True: 22     correct!\n",
      "Estimated: 25, True: 23     incorrect...\n",
      "Estimated: 24, True: 24     correct!\n",
      "Estimated: 25, True: 25     correct!\n",
      "Estimated: 26, True: 26     correct!\n",
      "Estimated: 27, True: 27     correct!\n",
      "Estimated: 28, True: 28     correct!\n",
      "ACC:96.55\n"
     ]
    }
   ],
   "source": [
    "ACC = 0\n",
    "for i, data in enumerate(test_data):\n",
    "    candidates=[]\n",
    "    # Calculate likelihood scores for all the trained GMMs.\n",
    "    for spk in GMM_model.keys():\n",
    "        score = GMM_model[spk].score(data)\n",
    "#        print(\"spk {} : {}\".format(spk, score))\n",
    "        candidates.append(score)\n",
    "    candidates = np.array(candidates)\n",
    "    \n",
    "    estimated_speaker_label = np.argmax(candidates)\n",
    "    print(\"Estimated: {}, True: {}\".format(estimated_speaker_label, test_label[i]), end=' '*5)\n",
    "    if test_label[i] == estimated_speaker_label:\n",
    "        print(\"correct!\")\n",
    "        ACC += 1\n",
    "    else:\n",
    "        print(\"incorrect...\")\n",
    "print(\"ACC:{:.2f}\".format(ACC/len(test_label)*100.))   \n",
    "# 왼쪽은 gmm likelihood max"
   ]
  },
  {
   "cell_type": "code",
   "execution_count": null,
   "metadata": {},
   "outputs": [],
   "source": []
  }
 ],
 "metadata": {
  "kernelspec": {
   "display_name": "Python 3",
   "language": "python",
   "name": "python3"
  },
  "language_info": {
   "codemirror_mode": {
    "name": "ipython",
    "version": 3
   },
   "file_extension": ".py",
   "mimetype": "text/x-python",
   "name": "python",
   "nbconvert_exporter": "python",
   "pygments_lexer": "ipython3",
   "version": "3.7.7"
  }
 },
 "nbformat": 4,
 "nbformat_minor": 2
}
